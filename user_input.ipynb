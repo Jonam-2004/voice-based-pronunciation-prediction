{
 "cells": [
  {
   "cell_type": "code",
   "execution_count": 2,
   "metadata": {},
   "outputs": [
    {
     "name": "stderr",
     "output_type": "stream",
     "text": [
      "d:\\Anaconda\\Lib\\site-packages\\transformers\\utils\\generic.py:260: FutureWarning: `torch.utils._pytree._register_pytree_node` is deprecated. Please use `torch.utils._pytree.register_pytree_node` instead.\n",
      "  torch.utils._pytree._register_pytree_node(\n",
      "d:\\Anaconda\\Lib\\site-packages\\transformers\\utils\\generic.py:260: FutureWarning: `torch.utils._pytree._register_pytree_node` is deprecated. Please use `torch.utils._pytree.register_pytree_node` instead.\n",
      "  torch.utils._pytree._register_pytree_node(\n"
     ]
    }
   ],
   "source": [
    "import torchaudio\n",
    "from transformers import Wav2Vec2Processor, Wav2Vec2ForCTC\n",
    "import torch\n",
    "import os"
   ]
  },
  {
   "cell_type": "code",
   "execution_count": 3,
   "metadata": {},
   "outputs": [
    {
     "name": "stderr",
     "output_type": "stream",
     "text": [
      "Some weights of the model checkpoint at facebook/wav2vec2-base-960h were not used when initializing Wav2Vec2ForCTC: ['wav2vec2.encoder.pos_conv_embed.conv.weight_g', 'wav2vec2.encoder.pos_conv_embed.conv.weight_v']\n",
      "- This IS expected if you are initializing Wav2Vec2ForCTC from the checkpoint of a model trained on another task or with another architecture (e.g. initializing a BertForSequenceClassification model from a BertForPreTraining model).\n",
      "- This IS NOT expected if you are initializing Wav2Vec2ForCTC from the checkpoint of a model that you expect to be exactly identical (initializing a BertForSequenceClassification model from a BertForSequenceClassification model).\n",
      "Some weights of Wav2Vec2ForCTC were not initialized from the model checkpoint at facebook/wav2vec2-base-960h and are newly initialized: ['wav2vec2.masked_spec_embed', 'wav2vec2.encoder.pos_conv_embed.conv.parametrizations.weight.original1', 'wav2vec2.encoder.pos_conv_embed.conv.parametrizations.weight.original0']\n",
      "You should probably TRAIN this model on a down-stream task to be able to use it for predictions and inference.\n"
     ]
    }
   ],
   "source": [
    "\n",
    "processor = Wav2Vec2Processor.from_pretrained(\"facebook/wav2vec2-base-960h\")\n",
    "model = Wav2Vec2ForCTC.from_pretrained(\"facebook/wav2vec2-base-960h\")"
   ]
  },
  {
   "cell_type": "code",
   "execution_count": 5,
   "metadata": {},
   "outputs": [
    {
     "name": "stdout",
     "output_type": "stream",
     "text": [
      "Recording... Please speak.\n",
      "Recording complete.\n",
      "Predicted Text: HALLO DEFIUS MONOGH FROM PEROAGO\n"
     ]
    }
   ],
   "source": [
    "import sounddevice as sd\n",
    "from scipy.io.wavfile import write\n",
    "import numpy as np\n",
    "\n",
    "# Set recording parameters\n",
    "duration = 5  # seconds\n",
    "sample_rate = 16000  # Wav2Vec2 model requires 16kHz audio\n",
    "\n",
    "# Record audio from the microphone\n",
    "print(\"Recording... Please speak.\")\n",
    "audio_data = sd.rec(int(duration * sample_rate), samplerate=sample_rate, channels=1, dtype='float32')\n",
    "sd.wait()  # Wait until recording is finished\n",
    "print(\"Recording complete.\")\n",
    "\n",
    "# Convert audio to the format expected by Wav2Vec2\n",
    "waveform = torch.tensor(audio_data).squeeze()\n",
    "\n",
    "# Process and tokenize the waveform\n",
    "inputs = processor(waveform, sampling_rate=sample_rate, return_tensors=\"pt\", padding=True)\n",
    "input_values = inputs.input_values\n",
    "\n",
    "# Get the logits from the model\n",
    "with torch.no_grad():\n",
    "    logits = model(input_values).logits\n",
    "\n",
    "# Decode predicted ids to text\n",
    "predicted_ids = torch.argmax(logits, dim=-1)\n",
    "predicted_text = processor.batch_decode(predicted_ids)[0]\n",
    "print(\"Predicted Text:\", predicted_text)\n"
   ]
  },
  {
   "cell_type": "code",
   "execution_count": 6,
   "metadata": {},
   "outputs": [
    {
     "ename": "NameError",
     "evalue": "name 'ground_truth_text' is not defined",
     "output_type": "error",
     "traceback": [
      "\u001b[1;31m---------------------------------------------------------------------------\u001b[0m",
      "\u001b[1;31mNameError\u001b[0m                                 Traceback (most recent call last)",
      "Cell \u001b[1;32mIn[6], line 27\u001b[0m\n\u001b[0;32m     24\u001b[0m     plt\u001b[38;5;241m.\u001b[39mshow()\n\u001b[0;32m     26\u001b[0m \u001b[38;5;66;03m# Call the function with confidence-based coloring\u001b[39;00m\n\u001b[1;32m---> 27\u001b[0m visualize_pronunciation_with_confidence(\u001b[43mground_truth_text\u001b[49m, predicted_text, logits)\n",
      "\u001b[1;31mNameError\u001b[0m: name 'ground_truth_text' is not defined"
     ]
    }
   ],
   "source": [
    "import matplotlib.pyplot as plt\n",
    "import numpy as np\n",
    "\n",
    "def visualize_pronunciation_with_confidence(ground_truth, prediction, logits):\n",
    "    ground_truth_words = ground_truth.split()\n",
    "    predicted_words = prediction.split()\n",
    "    \n",
    "    # Calculate confidence scores (softmax on logits for each word)\n",
    "    softmax = torch.nn.Softmax(dim=-1)\n",
    "    confidence_scores = softmax(logits).max(dim=-1).values.squeeze().tolist()\n",
    "    \n",
    "    # Match confidence score to each predicted word\n",
    "    fig, ax = plt.subplots()\n",
    "    for idx, word in enumerate(ground_truth_words):\n",
    "        if idx < len(predicted_words):\n",
    "            # Green for correct, Red for incorrect, Gradient based on confidence\n",
    "            correct = word.lower() == predicted_words[idx].lower()\n",
    "            confidence = confidence_scores[idx] if idx < len(confidence_scores) else 1.0\n",
    "            color = (1 - confidence, confidence, 0) if correct else (confidence, 0, 0)\n",
    "            ax.text(idx * 0.5, 0.5, word, color=color, fontsize=12, ha='center')\n",
    "        else:\n",
    "            ax.text(idx * 0.5, 0.5, word, color=\"gray\", fontsize=12, ha='center')\n",
    "    ax.axis('off')\n",
    "    plt.show()\n",
    "\n",
    "# Call the function with confidence-based coloring\n",
    "visualize_pronunciation_with_confidence(ground_truth_text, predicted_text, logits)\n"
   ]
  }
 ],
 "metadata": {
  "kernelspec": {
   "display_name": "base",
   "language": "python",
   "name": "python3"
  },
  "language_info": {
   "codemirror_mode": {
    "name": "ipython",
    "version": 3
   },
   "file_extension": ".py",
   "mimetype": "text/x-python",
   "name": "python",
   "nbconvert_exporter": "python",
   "pygments_lexer": "ipython3",
   "version": "3.11.5"
  }
 },
 "nbformat": 4,
 "nbformat_minor": 2
}
