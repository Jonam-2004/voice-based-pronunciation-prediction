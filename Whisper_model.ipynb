{
 "cells": [
  {
   "cell_type": "code",
   "execution_count": 1,
   "metadata": {},
   "outputs": [
    {
     "ename": "ModuleNotFoundError",
     "evalue": "No module named 'transformers'",
     "output_type": "error",
     "traceback": [
      "\u001b[1;31m---------------------------------------------------------------------------\u001b[0m",
      "\u001b[1;31mModuleNotFoundError\u001b[0m                       Traceback (most recent call last)",
      "Cell \u001b[1;32mIn[1], line 1\u001b[0m\n\u001b[1;32m----> 1\u001b[0m \u001b[38;5;28;01mfrom\u001b[39;00m \u001b[38;5;21;01mtransformers\u001b[39;00m \u001b[38;5;28;01mimport\u001b[39;00m WhisperProcessor, WhisperForConditionalGeneration\n\u001b[0;32m      2\u001b[0m \u001b[38;5;28;01mimport\u001b[39;00m \u001b[38;5;21;01mtorch\u001b[39;00m\n\u001b[0;32m      3\u001b[0m \u001b[38;5;28;01mimport\u001b[39;00m \u001b[38;5;21;01mtorchaudio\u001b[39;00m\n",
      "\u001b[1;31mModuleNotFoundError\u001b[0m: No module named 'transformers'"
     ]
    }
   ],
   "source": [
    "from transformers import WhisperProcessor, WhisperForConditionalGeneration\n",
    "import torch\n",
    "import torchaudio\n",
    "import os"
   ]
  },
  {
   "cell_type": "code",
   "execution_count": null,
   "metadata": {},
   "outputs": [],
   "source": [
    "\n",
    "processor = WhisperProcessor.from_pretrained(\"openai/whisper-large-v2\")\n",
    "model = WhisperForConditionalGeneration.from_pretrained(\"openai/whisper-large-v2\")\n"
   ]
  },
  {
   "cell_type": "code",
   "execution_count": null,
   "metadata": {},
   "outputs": [],
   "source": [
    "\n",
    "timit_path = r\"timit\\data\\TRAIN\\DR1\\FCJF0\"  # Update this path as necessary\n",
    "audio_file = os.path.join(timit_path, \"SA1.WAV\")\n",
    "\n",
    "waveform, sample_rate = torchaudio.load(audio_file)\n",
    "waveform = waveform.squeeze()\n",
    "\n",
    "if sample_rate != 16000:\n",
    "    waveform = torchaudio.transforms.Resample(sample_rate, 16000)(waveform)\n",
    "\n",
    "inputs = processor(waveform, sampling_rate=16000, return_tensors=\"pt\")\n",
    "\n",
    "with torch.no_grad():\n",
    "    predicted_ids = model.generate(inputs[\"input_features\"], max_length=50)\n",
    "\n",
    "predicted_text = processor.batch_decode(predicted_ids, skip_special_tokens=True)[0]\n",
    "print(\"Predicted Text:\", predicted_text)\n",
    "\n",
    "ground_truth_text = \"She had your dark suit in greasy wash water all year\"\n"
   ]
  },
  {
   "cell_type": "code",
   "execution_count": null,
   "metadata": {},
   "outputs": [],
   "source": [
    "from jiwer import wer, mer, wil\n",
    "import matplotlib.pyplot as plt\n",
    "import seaborn as sns\n",
    "import numpy as np\n",
    "\n",
    "error_rate = wer(ground_truth_text.lower(), predicted_text.lower())\n",
    "print(\"Word Error Rate:\", error_rate)\n",
    "\n",
    "match_error_rate = mer(ground_truth_text.lower(), predicted_text.lower())\n",
    "wil_rate = wil(ground_truth_text.lower(), predicted_text.lower())\n",
    "print(\"Match Error Rate:\", match_error_rate)\n",
    "print(\"Word Information Lost Rate:\", wil_rate)\n",
    "\n",
    "def visualize_pronunciation(ground_truth, prediction):\n",
    "    ground_truth_words = ground_truth.split()\n",
    "    predicted_words = prediction.split()\n",
    "    \n",
    "    fig, ax = plt.subplots()\n",
    "    for idx, word in enumerate(ground_truth_words):\n",
    "        color = 'green' if idx < len(predicted_words) and word.lower() == predicted_words[idx].lower() else 'red'\n",
    "        ax.text(idx * 0.1, 0.5, word, color=color, fontsize=12, ha='center')\n",
    "    ax.axis('off')\n",
    "    plt.show()\n",
    "\n",
    "visualize_pronunciation(ground_truth_text, predicted_text)"
   ]
  },
  {
   "cell_type": "code",
   "execution_count": null,
   "metadata": {},
   "outputs": [],
   "source": [
    "\n",
    "def plot_performance_metrics(accuracy, precision, recall, f1):\n",
    "    metrics = {\"Accuracy\": accuracy, \"Precision\": precision, \"Recall\": recall, \"F1 Score\": f1}\n",
    "    \n",
    "    plt.figure(figsize=(8, 5))\n",
    "    sns.barplot(x=list(metrics.keys()), y=list(metrics.values()), palette=\"Blues_d\")\n",
    "    plt.ylim(0, 1)\n",
    "    plt.title(\"Pronunciation Prediction Model Performance Metrics\")\n",
    "    plt.ylabel(\"Score\")\n",
    "    plt.xlabel(\"Metric\")\n",
    "    plt.show()\n",
    "\n",
    "from sklearn.metrics import accuracy_score, precision_score, recall_score, f1_score\n",
    "\n",
    "def get_labels(ground_truth, prediction):\n",
    "    ground_truth_words = ground_truth.split()\n",
    "    predicted_words = prediction.split()\n",
    "    labels = [1 if gt.lower() == pd.lower() else 0 for gt, pd in zip(ground_truth_words, predicted_words)]\n",
    "    return labels\n",
    "\n",
    "labels = get_labels(ground_truth_text, predicted_text)\n",
    "\n",
    "accuracy = accuracy_score([1]*len(labels), labels)\n",
    "precision = precision_score([1]*len(labels), labels)\n",
    "recall = recall_score([1]*len(labels), labels)\n",
    "f1 = f1_score([1]*len(labels), labels)\n",
    "\n",
    "plot_performance_metrics(accuracy, precision, recall, f1)\n"
   ]
  },
  {
   "cell_type": "code",
   "execution_count": null,
   "metadata": {},
   "outputs": [],
   "source": [
    "from sklearn.metrics import accuracy_score, precision_score, recall_score, f1_score\n",
    "\n",
    "def get_labels(ground_truth, prediction):\n",
    "    ground_truth_words = ground_truth.split()\n",
    "    predicted_words = prediction.split()\n",
    "    labels = [1 if gt.lower() == pd.lower() else 0 for gt, pd in zip(ground_truth_words, predicted_words)]\n",
    "    return labels\n",
    "\n",
    "labels = get_labels(ground_truth_text, predicted_text)\n",
    "\n",
    "accuracy = accuracy_score([1]*len(labels), labels)\n",
    "precision = precision_score([1]*len(labels), labels)\n",
    "recall = recall_score([1]*len(labels), labels)\n",
    "f1 = f1_score([1]*len(labels), labels)\n",
    "\n",
    "print(f\"Accuracy: {accuracy:.2f}\")\n",
    "print(f\"Precision: {precision:.2f}\")\n",
    "print(f\"Recall: {recall:.2f}\")\n",
    "print(f\"F1 Score: {f1:.2f}\")\n"
   ]
  },
  {
   "cell_type": "code",
   "execution_count": null,
   "metadata": {},
   "outputs": [],
   "source": [
    "import matplotlib.pyplot as plt\n",
    "import torchaudio\n",
    "\n",
    "def visualize_audio_with_text_overlay(waveform, ground_truth, prediction, sample_rate=16000):\n",
    "    ground_truth_words = ground_truth.split()\n",
    "    predicted_words = prediction.split()\n",
    "\n",
    "    total_time = waveform.size(0) / sample_rate\n",
    "    word_times = np.linspace(0, total_time, len(ground_truth_words) + 1)\n",
    "\n",
    "    fig, ax = plt.subplots()\n",
    "    ax.plot(np.linspace(0, total_time, waveform.size(0)), waveform.numpy(), label=\"Audio Signal\")\n",
    "    \n",
    "    for idx, word in enumerate(ground_truth_words):\n",
    "        color = 'green' if idx < len(predicted_words) and word.lower() == predicted_words[idx].lower() else 'red'\n",
    "        ax.text(word_times[idx], waveform.max(), word, color=color, fontsize=9, ha='center', va='bottom')\n",
    "    \n",
    "    ax.set_xlabel(\"Time (s)\")\n",
    "    ax.set_ylabel(\"Amplitude\")\n",
    "    plt.legend()\n",
    "    plt.show()\n",
    "\n",
    "visualize_audio_with_text_overlay(waveform, ground_truth_text, predicted_text)\n"
   ]
  }
 ],
 "metadata": {
  "kernelspec": {
   "display_name": "base",
   "language": "python",
   "name": "python3"
  },
  "language_info": {
   "codemirror_mode": {
    "name": "ipython",
    "version": 3
   },
   "file_extension": ".py",
   "mimetype": "text/x-python",
   "name": "python",
   "nbconvert_exporter": "python",
   "pygments_lexer": "ipython3",
   "version": "3.11.5"
  }
 },
 "nbformat": 4,
 "nbformat_minor": 2
}
