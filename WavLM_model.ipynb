{
 "cells": [
  {
   "cell_type": "code",
   "execution_count": null,
   "metadata": {},
   "outputs": [
    {
     "ename": "ImportError",
     "evalue": "cannot import name 'WavLMProcessor' from 'transformers' (d:\\Anaconda\\Lib\\site-packages\\transformers\\__init__.py)",
     "output_type": "error",
     "traceback": [
      "\u001b[1;31m---------------------------------------------------------------------------\u001b[0m",
      "\u001b[1;31mImportError\u001b[0m                               Traceback (most recent call last)",
      "Cell \u001b[1;32mIn[2], line 1\u001b[0m\n\u001b[1;32m----> 1\u001b[0m \u001b[38;5;28;01mfrom\u001b[39;00m \u001b[38;5;21;01mtransformers\u001b[39;00m \u001b[38;5;28;01mimport\u001b[39;00m WavLMProcessor, WavLMForCTC\n\u001b[0;32m      2\u001b[0m \u001b[38;5;28;01mimport\u001b[39;00m \u001b[38;5;21;01mtorch\u001b[39;00m\n\u001b[0;32m      3\u001b[0m \u001b[38;5;28;01mimport\u001b[39;00m \u001b[38;5;21;01mtorchaudio\u001b[39;00m\n",
      "\u001b[1;31mImportError\u001b[0m: cannot import name 'WavLMProcessor' from 'transformers' (d:\\Anaconda\\Lib\\site-packages\\transformers\\__init__.py)"
     ]
    }
   ],
   "source": [
    "from transformers import WavLMProcessor, WavLMForCTC\n",
    "import torch\n",
    "import torchaudio\n",
    "import os\n",
    "\n",
    "# Load the WavLM processor and model\n",
    "wavlm_processor = WavLMProcessor.from_pretrained(\"microsoft/wavlm-base-plus\")\n",
    "wavlm_model = WavLMForCTC.from_pretrained(\"microsoft/wavlm-base-plus\")\n",
    "\n",
    "# Path to the TIMIT dataset audio file\n",
    "audio_file = os.path.join(\"timit\", \"data\", \"TRAIN\", \"DR1\", \"FCJF0\", \"SA1.WAV\")\n",
    "\n",
    "# Load the audio file\n",
    "waveform, sample_rate = torchaudio.load(audio_file)\n",
    "waveform = waveform.squeeze()\n",
    "\n",
    "# Resample to 16kHz if necessary\n",
    "if sample_rate != 16000:\n",
    "    waveform = torchaudio.transforms.Resample(sample_rate, 16000)(waveform)\n",
    "\n",
    "# Process and tokenize the waveform\n",
    "inputs = wavlm_processor(waveform, sampling_rate=16000, return_tensors=\"pt\")\n",
    "\n",
    "# Get the predicted text from the WavLM model\n",
    "with torch.no_grad():\n",
    "    logits = wavlm_model(inputs.input_values).logits\n",
    "    predicted_ids = torch.argmax(logits, dim=-1)\n",
    "\n",
    "# Decode the predicted ids to text\n",
    "ground_truth_text = \"She had your dark suit in greasy wash water all year\"\n",
    "\n",
    "\n",
    "predicted_text = wavlm_processor.batch_decode(predicted_ids)[0]\n",
    "print(\"WavLM Predicted Text:\", predicted_text)\n"
   ]
  },
  {
   "cell_type": "code",
   "execution_count": null,
   "metadata": {},
   "outputs": [],
   "source": [
    "from jiwer import wer, mer, wil\n",
    "import matplotlib.pyplot as plt\n",
    "import seaborn as sns\n",
    "import numpy as np\n",
    "\n",
    "error_rate = wer(ground_truth_text.lower(), predicted_text.lower())\n",
    "print(\"Word Error Rate:\", error_rate)\n",
    "\n",
    "match_error_rate = mer(ground_truth_text.lower(), predicted_text.lower())\n",
    "wil_rate = wil(ground_truth_text.lower(), predicted_text.lower())\n",
    "print(\"Match Error Rate:\", match_error_rate)\n",
    "print(\"Word Information Lost Rate:\", wil_rate)\n",
    "\n",
    "def visualize_pronunciation(ground_truth, prediction):\n",
    "    ground_truth_words = ground_truth.split()\n",
    "    predicted_words = prediction.split()\n",
    "    \n",
    "    fig, ax = plt.subplots()\n",
    "    for idx, word in enumerate(ground_truth_words):\n",
    "        color = 'green' if idx < len(predicted_words) and word.lower() == predicted_words[idx].lower() else 'red'\n",
    "        ax.text(idx * 0.1, 0.5, word, color=color, fontsize=12, ha='center')\n",
    "    ax.axis('off')\n",
    "    plt.show()\n",
    "\n",
    "visualize_pronunciation(ground_truth_text, predicted_text)"
   ]
  },
  {
   "cell_type": "code",
   "execution_count": null,
   "metadata": {},
   "outputs": [],
   "source": [
    "\n",
    "def plot_performance_metrics(accuracy, precision, recall, f1):\n",
    "    metrics = {\"Accuracy\": accuracy, \"Precision\": precision, \"Recall\": recall, \"F1 Score\": f1}\n",
    "    \n",
    "    plt.figure(figsize=(8, 5))\n",
    "    sns.barplot(x=list(metrics.keys()), y=list(metrics.values()), palette=\"Blues_d\")\n",
    "    plt.ylim(0, 1)\n",
    "    plt.title(\"Pronunciation Prediction Model Performance Metrics\")\n",
    "    plt.ylabel(\"Score\")\n",
    "    plt.xlabel(\"Metric\")\n",
    "    plt.show()\n",
    "\n",
    "from sklearn.metrics import accuracy_score, precision_score, recall_score, f1_score\n",
    "\n",
    "def get_labels(ground_truth, prediction):\n",
    "    ground_truth_words = ground_truth.split()\n",
    "    predicted_words = prediction.split()\n",
    "    labels = [1 if gt.lower() == pd.lower() else 0 for gt, pd in zip(ground_truth_words, predicted_words)]\n",
    "    return labels\n",
    "\n",
    "labels = get_labels(ground_truth_text, predicted_text)\n",
    "\n",
    "accuracy = accuracy_score([1]*len(labels), labels)\n",
    "precision = precision_score([1]*len(labels), labels)\n",
    "recall = recall_score([1]*len(labels), labels)\n",
    "f1 = f1_score([1]*len(labels), labels)\n",
    "\n",
    "plot_performance_metrics(accuracy, precision, recall, f1)\n"
   ]
  }
 ],
 "metadata": {
  "kernelspec": {
   "display_name": "base",
   "language": "python",
   "name": "python3"
  },
  "language_info": {
   "codemirror_mode": {
    "name": "ipython",
    "version": 3
   },
   "file_extension": ".py",
   "mimetype": "text/x-python",
   "name": "python",
   "nbconvert_exporter": "python",
   "pygments_lexer": "ipython3",
   "version": "3.11.5"
  }
 },
 "nbformat": 4,
 "nbformat_minor": 2
}
