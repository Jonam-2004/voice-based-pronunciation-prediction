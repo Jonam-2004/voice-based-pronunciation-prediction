{
 "cells": [
  {
   "cell_type": "code",
   "execution_count": 1,
   "metadata": {},
   "outputs": [
    {
     "name": "stderr",
     "output_type": "stream",
     "text": [
      "[NeMo W 2024-11-12 16:06:05 nemo_logging:393] d:\\Anaconda\\Lib\\site-packages\\pydub\\utils.py:170: RuntimeWarning: Couldn't find ffmpeg or avconv - defaulting to ffmpeg, but may not work\n",
      "      warn(\"Couldn't find ffmpeg or avconv - defaulting to ffmpeg, but may not work\", RuntimeWarning)\n",
      "    \n",
      "[NeMo W 2024-11-12 16:06:10 nemo_logging:393] Could not import NeMo NLP collection which is required for speech translation model.\n"
     ]
    }
   ],
   "source": [
    "import os\n",
    "import torchaudio\n",
    "import nemo.collections.asr as nemo_asr\n",
    "import numpy as np\n",
    "import matplotlib.pyplot as plt\n",
    "import seaborn as sns\n",
    "from jiwer import wer, mer, wil\n",
    "from sklearn.metrics import accuracy_score, precision_score, recall_score, f1_score"
   ]
  },
  {
   "cell_type": "code",
   "execution_count": null,
   "metadata": {},
   "outputs": [
    {
     "name": "stdout",
     "output_type": "stream",
     "text": [
      "[NeMo I 2024-11-12 16:06:10 nemo_logging:381] Downloading from: https://api.ngc.nvidia.com/v2/models/nvidia/nemo/stt_en_jasper10x5dr/versions/1.0.0rc1/files/stt_en_jasper10x5dr.nemo to C:\\Users\\51man\\.cache\\torch\\NeMo\\NeMo_1.21.0\\stt_en_jasper10x5dr\\856ae08d5c4bd78b5e27f696e96f7aab\\stt_en_jasper10x5dr.nemo\n"
     ]
    }
   ],
   "source": [
    "asr_model = nemo_asr.models.EncDecCTCModel.from_pretrained(model_name=\"stt_en_jasper10x5dr\")\n",
    "\n",
    "timit_path = r\"timit\\data\\TRAIN\\DR1\\FCJF0\"\n",
    "audio_file = os.path.join(timit_path, \"SA1.WAV\")\n",
    "\n",
    "\n"
   ]
  },
  {
   "cell_type": "code",
   "execution_count": null,
   "metadata": {},
   "outputs": [],
   "source": [
    "waveform, sample_rate = torchaudio.load(audio_file)\n",
    "if sample_rate != 16000:\n",
    "    waveform = torchaudio.transforms.Resample(sample_rate, 16000)(waveform)\n",
    "\n",
    "temp_audio_path = \"temp.wav\"\n",
    "torchaudio.save(temp_audio_path, waveform, 16000)\n",
    "\n",
    "predicted_text = asr_model.transcribe([temp_audio_path])[0]\n",
    "print(\"Jasper Predicted Text:\", predicted_text)\n",
    "\n",
    "ground_truth_text = \"She had your dark suit in greasy wash water all year\"\n",
    "\n"
   ]
  },
  {
   "cell_type": "code",
   "execution_count": null,
   "metadata": {},
   "outputs": [],
   "source": [
    "error_rate = wer(ground_truth_text.lower(), predicted_text.lower())\n",
    "print(\"Word Error Rate:\", error_rate)\n",
    "\n",
    "match_error_rate = mer(ground_truth_text.lower(), predicted_text.lower())\n",
    "wil_rate = wil(ground_truth_text.lower(), predicted_text.lower())\n",
    "print(\"Match Error Rate:\", match_error_rate)\n",
    "print(\"Word Information Lost Rate:\", wil_rate)\n",
    "\n"
   ]
  },
  {
   "cell_type": "code",
   "execution_count": null,
   "metadata": {},
   "outputs": [],
   "source": [
    "def visualize_pronunciation(ground_truth, prediction):\n",
    "    ground_truth_words = ground_truth.split()\n",
    "    predicted_words = prediction.split()\n",
    "    \n",
    "    fig, ax = plt.subplots()\n",
    "    for idx, word in enumerate(ground_truth_words):\n",
    "        color = 'green' if idx < len(predicted_words) and word.lower() == predicted_words[idx].lower() else 'red'\n",
    "        ax.text(idx * 0.1, 0.5, word, color=color, fontsize=12, ha='center')\n",
    "    ax.axis('off')\n",
    "    plt.show()\n",
    "\n",
    "visualize_pronunciation(ground_truth_text, predicted_text)\n"
   ]
  },
  {
   "cell_type": "code",
   "execution_count": null,
   "metadata": {},
   "outputs": [],
   "source": [
    "\n",
    "def plot_performance_metrics(accuracy, precision, recall, f1):\n",
    "    metrics = {\"Accuracy\": accuracy, \"Precision\": precision, \"Recall\": recall, \"F1 Score\": f1}\n",
    "    \n",
    "    plt.figure(figsize=(8, 5))\n",
    "    sns.barplot(x=list(metrics.keys()), y=list(metrics.values()), palette=\"Blues_d\")\n",
    "    plt.ylim(0, 1)\n",
    "    plt.title(\"Pronunciation Prediction Model Performance Metrics\")\n",
    "    plt.ylabel(\"Score\")\n",
    "    plt.xlabel(\"Metric\")\n",
    "    plt.show()\n"
   ]
  },
  {
   "cell_type": "code",
   "execution_count": null,
   "metadata": {},
   "outputs": [],
   "source": [
    "def get_labels(ground_truth, prediction):\n",
    "    ground_truth_words = ground_truth.split()\n",
    "    predicted_words = prediction.split()\n",
    "    labels = [1 if gt.lower() == pd.lower() else 0 for gt, pd in zip(ground_truth_words, predicted_words)]\n",
    "    return labels\n",
    "\n",
    "labels = get_labels(ground_truth_text, predicted_text)\n",
    "\n",
    "accuracy = accuracy_score([1]*len(labels), labels)\n",
    "precision = precision_score([1]*len(labels), labels)\n",
    "recall = recall_score([1]*len(labels), labels)\n",
    "f1 = f1_score([1]*len(labels), labels)\n",
    "\n",
    "print(f\"Accuracy: {accuracy:.2f}\")\n",
    "print(f\"Precision: {precision:.2f}\")\n",
    "print(f\"Recall: {recall:.2f}\")\n",
    "print(f\"F1 Score: {f1:.2f}\")\n",
    "\n",
    "plot_performance_metrics(accuracy, precision, recall, f1)\n"
   ]
  },
  {
   "cell_type": "code",
   "execution_count": null,
   "metadata": {},
   "outputs": [],
   "source": [
    "def visualize_audio_with_text_overlay(waveform, ground_truth, prediction, sample_rate=16000, downsample_factor=10):\n",
    "    waveform = waveform[0, ::downsample_factor]  \n",
    "    ground_truth_words = ground_truth.split()\n",
    "    predicted_words = prediction.split()\n",
    "\n",
    "    total_time = waveform.size(0) / sample_rate\n",
    "    word_times = np.linspace(0, total_time, len(ground_truth_words) + 1)\n",
    "\n",
    "    fig, ax = plt.subplots(figsize=(10, 4)) \n",
    "    ax.plot(np.linspace(0, total_time, waveform.size(0)), waveform.numpy(), label=\"Audio Signal\")\n",
    "    \n",
    "    for idx, word in enumerate(ground_truth_words):\n",
    "        color = 'green' if idx < len(predicted_words) and word.lower() == predicted_words[idx].lower() else 'red'\n",
    "        ax.text(word_times[idx], waveform.max(), word, color=color, fontsize=9, ha='center', va='bottom')\n",
    "    \n",
    "    ax.set_xlabel(\"Time (s)\")\n",
    "    ax.set_ylabel(\"Amplitude\")\n",
    "    ax.set_xlim(0, total_time)  \n",
    "    plt.legend()\n",
    "    plt.show()\n",
    "\n",
    "visualize_audio_with_text_overlay(waveform, ground_truth_text, predicted_text)\n"
   ]
  },
  {
   "cell_type": "code",
   "execution_count": null,
   "metadata": {},
   "outputs": [
    {
     "name": "stdout",
     "output_type": "stream",
     "text": [
      "[PretrainedModelInfo(\n",
      "\tpretrained_model_name=QuartzNet15x5Base-En,\n",
      "\tdescription=QuartzNet15x5 model trained on six datasets: LibriSpeech, Mozilla Common Voice (validated clips from en_1488h_2019-12-10), WSJ, Fisher, Switchboard, and NSC Singapore English. It was trained with Apex/Amp optimization level O1 for 600 epochs. The model achieves a WER of 3.79% on LibriSpeech dev-clean, and a WER of 10.05% on dev-other. Please visit https://ngc.nvidia.com/catalog/models/nvidia:nemospeechmodels for further details.,\n",
      "\tlocation=https://api.ngc.nvidia.com/v2/models/nvidia/nemospeechmodels/versions/1.0.0a5/files/QuartzNet15x5Base-En.nemo\n",
      "), PretrainedModelInfo(\n",
      "\tpretrained_model_name=stt_en_quartznet15x5,\n",
      "\tdescription=For details about this model, please visit https://ngc.nvidia.com/catalog/models/nvidia:nemo:stt_en_quartznet15x5,\n",
      "\tlocation=https://api.ngc.nvidia.com/v2/models/nvidia/nemo/stt_en_quartznet15x5/versions/1.0.0rc1/files/stt_en_quartznet15x5.nemo\n",
      "), PretrainedModelInfo(\n",
      "\tpretrained_model_name=stt_en_jasper10x5dr,\n",
      "\tdescription=For details about this model, please visit https://ngc.nvidia.com/catalog/models/nvidia:nemo:stt_en_jasper10x5dr,\n",
      "\tlocation=https://api.ngc.nvidia.com/v2/models/nvidia/nemo/stt_en_jasper10x5dr/versions/1.0.0rc1/files/stt_en_jasper10x5dr.nemo\n",
      "), PretrainedModelInfo(\n",
      "\tpretrained_model_name=stt_ca_quartznet15x5,\n",
      "\tdescription=For details about this model, please visit https://ngc.nvidia.com/catalog/models/nvidia:nemo:stt_ca_quartznet15x5,\n",
      "\tlocation=https://api.ngc.nvidia.com/v2/models/nvidia/nemo/stt_ca_quartznet15x5/versions/1.0.0rc1/files/stt_ca_quartznet15x5.nemo\n",
      "), PretrainedModelInfo(\n",
      "\tpretrained_model_name=stt_it_quartznet15x5,\n",
      "\tdescription=For details about this model, please visit https://ngc.nvidia.com/catalog/models/nvidia:nemo:stt_it_quartznet15x5,\n",
      "\tlocation=https://api.ngc.nvidia.com/v2/models/nvidia/nemo/stt_it_quartznet15x5/versions/1.0.0rc1/files/stt_it_quartznet15x5.nemo\n",
      "), PretrainedModelInfo(\n",
      "\tpretrained_model_name=stt_fr_quartznet15x5,\n",
      "\tdescription=For details about this model, please visit https://ngc.nvidia.com/catalog/models/nvidia:nemo:stt_fr_quartznet15x5,\n",
      "\tlocation=https://api.ngc.nvidia.com/v2/models/nvidia/nemo/stt_fr_quartznet15x5/versions/1.0.0rc1/files/stt_fr_quartznet15x5.nemo\n",
      "), PretrainedModelInfo(\n",
      "\tpretrained_model_name=stt_es_quartznet15x5,\n",
      "\tdescription=For details about this model, please visit https://ngc.nvidia.com/catalog/models/nvidia:nemo:stt_es_quartznet15x5,\n",
      "\tlocation=https://api.ngc.nvidia.com/v2/models/nvidia/nemo/stt_es_quartznet15x5/versions/1.0.0rc1/files/stt_es_quartznet15x5.nemo\n",
      "), PretrainedModelInfo(\n",
      "\tpretrained_model_name=stt_de_quartznet15x5,\n",
      "\tdescription=For details about this model, please visit https://ngc.nvidia.com/catalog/models/nvidia:nemo:stt_de_quartznet15x5,\n",
      "\tlocation=https://api.ngc.nvidia.com/v2/models/nvidia/nemo/stt_de_quartznet15x5/versions/1.0.0rc1/files/stt_de_quartznet15x5.nemo\n",
      "), PretrainedModelInfo(\n",
      "\tpretrained_model_name=stt_pl_quartznet15x5,\n",
      "\tdescription=For details about this model, please visit https://ngc.nvidia.com/catalog/models/nvidia:nemo:stt_pl_quartznet15x5,\n",
      "\tlocation=https://api.ngc.nvidia.com/v2/models/nvidia/nemo/stt_pl_quartznet15x5/versions/1.0.0rc1/files/stt_pl_quartznet15x5.nemo\n",
      "), PretrainedModelInfo(\n",
      "\tpretrained_model_name=stt_ru_quartznet15x5,\n",
      "\tdescription=For details about this model, please visit https://ngc.nvidia.com/catalog/models/nvidia:nemo:stt_ru_quartznet15x5,\n",
      "\tlocation=https://api.ngc.nvidia.com/v2/models/nvidia/nemo/stt_ru_quartznet15x5/versions/1.0.0rc1/files/stt_ru_quartznet15x5.nemo\n",
      "), PretrainedModelInfo(\n",
      "\tpretrained_model_name=stt_zh_citrinet_512,\n",
      "\tdescription=For details about this model, please visit https://ngc.nvidia.com/catalog/models/nvidia:nemo:stt_zh_citrinet_512,\n",
      "\tlocation=https://api.ngc.nvidia.com/v2/models/nvidia/nemo/stt_zh_citrinet_512/versions/1.0.0rc1/files/stt_zh_citrinet_512.nemo\n",
      "), PretrainedModelInfo(\n",
      "\tpretrained_model_name=stt_zh_citrinet_1024_gamma_0_25,\n",
      "\tdescription=For details about this model, please visit https://ngc.nvidia.com/catalog/models/nvidia:nemo:stt_zh_citrinet_1024_gamma_0_25,\n",
      "\tlocation=https://api.ngc.nvidia.com/v2/models/nvidia/nemo/stt_zh_citrinet_1024_gamma_0_25/versions/1.0.0/files/stt_zh_citrinet_1024_gamma_0_25.nemo\n",
      "), PretrainedModelInfo(\n",
      "\tpretrained_model_name=stt_zh_citrinet_1024_gamma_0_25,\n",
      "\tdescription=For details about this model, please visit https://ngc.nvidia.com/catalog/models/nvidia:nemo:stt_zh_citrinet_1024_gamma_0_25,\n",
      "\tlocation=https://api.ngc.nvidia.com/v2/models/nvidia/nemo/stt_zh_citrinet_1024_gamma_0_25/versions/1.0.0/files/stt_zh_citrinet_1024_gamma_0_25.nemo\n",
      "), PretrainedModelInfo(\n",
      "\tpretrained_model_name=asr_talknet_aligner,\n",
      "\tdescription=For details about this model, please visit https://ngc.nvidia.com/catalog/models/nvidia:nemo:asr_talknet_aligner,\n",
      "\tlocation=https://api.ngc.nvidia.com/v2/models/nvidia/nemo/asr_talknet_aligner/versions/1.0.0rc1/files/qn5x5_libri_tts_phonemes.nemo\n",
      ")]\n"
     ]
    }
   ],
   "source": [
    "import nemo.collections.asr as nemo_asr\n",
    "\n",
    "print(nemo_asr.models.EncDecCTCModel.list_available_models())\n"
   ]
  }
 ],
 "metadata": {
  "kernelspec": {
   "display_name": "base",
   "language": "python",
   "name": "python3"
  },
  "language_info": {
   "codemirror_mode": {
    "name": "ipython",
    "version": 3
   },
   "file_extension": ".py",
   "mimetype": "text/x-python",
   "name": "python",
   "nbconvert_exporter": "python",
   "pygments_lexer": "ipython3",
   "version": "3.11.10"
  }
 },
 "nbformat": 4,
 "nbformat_minor": 2
}
