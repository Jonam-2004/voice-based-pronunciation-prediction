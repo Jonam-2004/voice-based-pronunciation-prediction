{
 "cells": [
  {
   "cell_type": "code",
   "execution_count": 8,
   "metadata": {},
   "outputs": [],
   "source": [
    "import os\n",
    "import torchaudio\n",
    "import nemo.collections.asr as nemo_asr\n",
    "import numpy as np\n",
    "import matplotlib.pyplot as plt\n",
    "import seaborn as sns\n",
    "from jiwer import wer, mer, wil\n",
    "from sklearn.metrics import accuracy_score, precision_score, recall_score, f1_score"
   ]
  },
  {
   "cell_type": "code",
   "execution_count": 9,
   "metadata": {},
   "outputs": [
    {
     "name": "stdout",
     "output_type": "stream",
     "text": [
      "[NeMo I 2024-11-12 16:21:48 nemo_logging:381] Downloading from: https://api.ngc.nvidia.com/v2/models/nvidia/nemo/stt_en_jasper10x5dr/versions/1.0.0rc1/files/stt_en_jasper10x5dr.nemo to C:\\Users\\51man\\.cache\\torch\\NeMo\\NeMo_1.21.0\\stt_en_jasper10x5dr\\856ae08d5c4bd78b5e27f696e96f7aab\\stt_en_jasper10x5dr.nemo\n",
      "[NeMo I 2024-11-12 16:21:53 nemo_logging:381] Download from cloud failed. Attempt 1 of 3\n",
      "[NeMo I 2024-11-12 16:21:53 nemo_logging:381] Download from cloud failed. Attempt 2 of 3\n",
      "[NeMo I 2024-11-12 16:21:53 nemo_logging:381] Download from cloud failed. Attempt 3 of 3\n"
     ]
    },
    {
     "ename": "ValueError",
     "evalue": "Not able to download url right now, please try again.",
     "output_type": "error",
     "traceback": [
      "\u001b[1;31m---------------------------------------------------------------------------\u001b[0m",
      "\u001b[1;31mValueError\u001b[0m                                Traceback (most recent call last)",
      "Cell \u001b[1;32mIn[9], line 1\u001b[0m\n\u001b[1;32m----> 1\u001b[0m asr_model \u001b[38;5;241m=\u001b[39m \u001b[43mnemo_asr\u001b[49m\u001b[38;5;241;43m.\u001b[39;49m\u001b[43mmodels\u001b[49m\u001b[38;5;241;43m.\u001b[39;49m\u001b[43mEncDecCTCModel\u001b[49m\u001b[38;5;241;43m.\u001b[39;49m\u001b[43mfrom_pretrained\u001b[49m\u001b[43m(\u001b[49m\u001b[43mmodel_name\u001b[49m\u001b[38;5;241;43m=\u001b[39;49m\u001b[38;5;124;43m\"\u001b[39;49m\u001b[38;5;124;43mstt_en_jasper10x5dr\u001b[39;49m\u001b[38;5;124;43m\"\u001b[39;49m\u001b[43m)\u001b[49m\n\u001b[0;32m      3\u001b[0m timit_path \u001b[38;5;241m=\u001b[39m \u001b[38;5;124mr\u001b[39m\u001b[38;5;124m\"\u001b[39m\u001b[38;5;124mtimit\u001b[39m\u001b[38;5;124m\\\u001b[39m\u001b[38;5;124mdata\u001b[39m\u001b[38;5;124m\\\u001b[39m\u001b[38;5;124mTRAIN\u001b[39m\u001b[38;5;124m\\\u001b[39m\u001b[38;5;124mDR1\u001b[39m\u001b[38;5;124m\\\u001b[39m\u001b[38;5;124mFCJF0\u001b[39m\u001b[38;5;124m\"\u001b[39m\n\u001b[0;32m      4\u001b[0m audio_file \u001b[38;5;241m=\u001b[39m os\u001b[38;5;241m.\u001b[39mpath\u001b[38;5;241m.\u001b[39mjoin(timit_path, \u001b[38;5;124m\"\u001b[39m\u001b[38;5;124mSA1.WAV\u001b[39m\u001b[38;5;124m\"\u001b[39m)\n",
      "File \u001b[1;32md:\\Anaconda\\Lib\\site-packages\\nemo\\core\\classes\\common.py:848\u001b[0m, in \u001b[0;36mModel.from_pretrained\u001b[1;34m(cls, model_name, refresh_cache, override_config_path, map_location, strict, return_config, trainer, save_restore_connector)\u001b[0m\n\u001b[0;32m    843\u001b[0m     class_, nemo_model_file_in_cache \u001b[38;5;241m=\u001b[39m \u001b[38;5;28mcls\u001b[39m\u001b[38;5;241m.\u001b[39m_get_hf_hub_pretrained_model_info(\n\u001b[0;32m    844\u001b[0m         model_name\u001b[38;5;241m=\u001b[39mmodel_name, refresh_cache\u001b[38;5;241m=\u001b[39mrefresh_cache\n\u001b[0;32m    845\u001b[0m     )\n\u001b[0;32m    846\u001b[0m \u001b[38;5;28;01melse\u001b[39;00m:\n\u001b[0;32m    847\u001b[0m     \u001b[38;5;66;03m# NGC source\u001b[39;00m\n\u001b[1;32m--> 848\u001b[0m     class_, nemo_model_file_in_cache \u001b[38;5;241m=\u001b[39m \u001b[38;5;28;43mcls\u001b[39;49m\u001b[38;5;241;43m.\u001b[39;49m\u001b[43m_get_ngc_pretrained_model_info\u001b[49m\u001b[43m(\u001b[49m\n\u001b[0;32m    849\u001b[0m \u001b[43m        \u001b[49m\u001b[43mmodel_name\u001b[49m\u001b[38;5;241;43m=\u001b[39;49m\u001b[43mmodel_name\u001b[49m\u001b[43m,\u001b[49m\u001b[43m \u001b[49m\u001b[43mrefresh_cache\u001b[49m\u001b[38;5;241;43m=\u001b[39;49m\u001b[43mrefresh_cache\u001b[49m\n\u001b[0;32m    850\u001b[0m \u001b[43m    \u001b[49m\u001b[43m)\u001b[49m\n\u001b[0;32m    852\u001b[0m instance \u001b[38;5;241m=\u001b[39m class_\u001b[38;5;241m.\u001b[39mrestore_from(\n\u001b[0;32m    853\u001b[0m     restore_path\u001b[38;5;241m=\u001b[39mnemo_model_file_in_cache,\n\u001b[0;32m    854\u001b[0m     override_config_path\u001b[38;5;241m=\u001b[39moverride_config_path,\n\u001b[1;32m   (...)\u001b[0m\n\u001b[0;32m    859\u001b[0m     save_restore_connector\u001b[38;5;241m=\u001b[39msave_restore_connector,\n\u001b[0;32m    860\u001b[0m )\n\u001b[0;32m    861\u001b[0m \u001b[38;5;28;01mreturn\u001b[39;00m instance\n",
      "File \u001b[1;32md:\\Anaconda\\Lib\\site-packages\\nemo\\core\\classes\\common.py:909\u001b[0m, in \u001b[0;36mModel._get_ngc_pretrained_model_info\u001b[1;34m(cls, model_name, refresh_cache)\u001b[0m\n\u001b[0;32m    907\u001b[0m cache_subfolder \u001b[38;5;241m=\u001b[39m hashlib\u001b[38;5;241m.\u001b[39mmd5((location_in_the_cloud \u001b[38;5;241m+\u001b[39m description)\u001b[38;5;241m.\u001b[39mencode(\u001b[38;5;124m'\u001b[39m\u001b[38;5;124mutf-8\u001b[39m\u001b[38;5;124m'\u001b[39m))\u001b[38;5;241m.\u001b[39mhexdigest()\n\u001b[0;32m    908\u001b[0m \u001b[38;5;66;03m# if file exists on cache_folder/subfolder, it will be re-used, unless refresh_cache is True\u001b[39;00m\n\u001b[1;32m--> 909\u001b[0m nemo_model_file_in_cache \u001b[38;5;241m=\u001b[39m \u001b[43mmaybe_download_from_cloud\u001b[49m\u001b[43m(\u001b[49m\n\u001b[0;32m    910\u001b[0m \u001b[43m    \u001b[49m\u001b[43murl\u001b[49m\u001b[38;5;241;43m=\u001b[39;49m\u001b[43murl\u001b[49m\u001b[43m,\u001b[49m\u001b[43m \u001b[49m\u001b[43mfilename\u001b[49m\u001b[38;5;241;43m=\u001b[39;49m\u001b[43mfilename\u001b[49m\u001b[43m,\u001b[49m\u001b[43m \u001b[49m\u001b[43mcache_dir\u001b[49m\u001b[38;5;241;43m=\u001b[39;49m\u001b[43mcache_dir\u001b[49m\u001b[43m,\u001b[49m\u001b[43m \u001b[49m\u001b[43msubfolder\u001b[49m\u001b[38;5;241;43m=\u001b[39;49m\u001b[43mcache_subfolder\u001b[49m\u001b[43m,\u001b[49m\u001b[43m \u001b[49m\u001b[43mrefresh_cache\u001b[49m\u001b[38;5;241;43m=\u001b[39;49m\u001b[43mrefresh_cache\u001b[49m\n\u001b[0;32m    911\u001b[0m \u001b[43m\u001b[49m\u001b[43m)\u001b[49m\n\u001b[0;32m    913\u001b[0m logging\u001b[38;5;241m.\u001b[39minfo(\u001b[38;5;124m\"\u001b[39m\u001b[38;5;124mInstantiating model from pre-trained checkpoint\u001b[39m\u001b[38;5;124m\"\u001b[39m)\n\u001b[0;32m    915\u001b[0m \u001b[38;5;28;01mif\u001b[39;00m class_ \u001b[38;5;129;01mis\u001b[39;00m \u001b[38;5;28;01mNone\u001b[39;00m:\n",
      "File \u001b[1;32md:\\Anaconda\\Lib\\site-packages\\nemo\\utils\\cloud.py:84\u001b[0m, in \u001b[0;36mmaybe_download_from_cloud\u001b[1;34m(url, filename, subfolder, cache_dir, refresh_cache)\u001b[0m\n\u001b[0;32m     82\u001b[0m         sleep(\u001b[38;5;241m0.05\u001b[39m)\n\u001b[0;32m     83\u001b[0m         \u001b[38;5;28;01mcontinue\u001b[39;00m\n\u001b[1;32m---> 84\u001b[0m \u001b[38;5;28;01mraise\u001b[39;00m \u001b[38;5;167;01mValueError\u001b[39;00m(\u001b[38;5;124m\"\u001b[39m\u001b[38;5;124mNot able to download url right now, please try again.\u001b[39m\u001b[38;5;124m\"\u001b[39m)\n",
      "\u001b[1;31mValueError\u001b[0m: Not able to download url right now, please try again."
     ]
    }
   ],
   "source": [
    "asr_model = nemo_asr.models.EncDecCTCModel.from_pretrained(model_name=\"stt_en_jasper10x5dr\")\n",
    "\n",
    "timit_path = r\"timit\\data\\TRAIN\\DR1\\FCJF0\"\n",
    "audio_file = os.path.join(timit_path, \"SA1.WAV\")\n",
    "\n",
    "\n"
   ]
  },
  {
   "cell_type": "code",
   "execution_count": null,
   "metadata": {},
   "outputs": [],
   "source": [
    "waveform, sample_rate = torchaudio.load(audio_file)\n",
    "if sample_rate != 16000:\n",
    "    waveform = torchaudio.transforms.Resample(sample_rate, 16000)(waveform)\n",
    "\n",
    "temp_audio_path = \"temp.wav\"\n",
    "torchaudio.save(temp_audio_path, waveform, 16000)\n",
    "\n",
    "predicted_text = asr_model.transcribe([temp_audio_path])[0]\n",
    "print(\"Jasper Predicted Text:\", predicted_text)\n",
    "\n",
    "ground_truth_text = \"She had your dark suit in greasy wash water all year\"\n",
    "\n"
   ]
  },
  {
   "cell_type": "code",
   "execution_count": null,
   "metadata": {},
   "outputs": [],
   "source": [
    "error_rate = wer(ground_truth_text.lower(), predicted_text.lower())\n",
    "print(\"Word Error Rate:\", error_rate)\n",
    "\n",
    "match_error_rate = mer(ground_truth_text.lower(), predicted_text.lower())\n",
    "wil_rate = wil(ground_truth_text.lower(), predicted_text.lower())\n",
    "print(\"Match Error Rate:\", match_error_rate)\n",
    "print(\"Word Information Lost Rate:\", wil_rate)\n",
    "\n"
   ]
  },
  {
   "cell_type": "code",
   "execution_count": null,
   "metadata": {},
   "outputs": [],
   "source": [
    "def visualize_pronunciation(ground_truth, prediction):\n",
    "    ground_truth_words = ground_truth.split()\n",
    "    predicted_words = prediction.split()\n",
    "    \n",
    "    fig, ax = plt.subplots()\n",
    "    for idx, word in enumerate(ground_truth_words):\n",
    "        color = 'green' if idx < len(predicted_words) and word.lower() == predicted_words[idx].lower() else 'red'\n",
    "        ax.text(idx * 0.1, 0.5, word, color=color, fontsize=12, ha='center')\n",
    "    ax.axis('off')\n",
    "    plt.show()\n",
    "\n",
    "visualize_pronunciation(ground_truth_text, predicted_text)\n"
   ]
  },
  {
   "cell_type": "code",
   "execution_count": null,
   "metadata": {},
   "outputs": [],
   "source": [
    "\n",
    "def plot_performance_metrics(accuracy, precision, recall, f1):\n",
    "    metrics = {\"Accuracy\": accuracy, \"Precision\": precision, \"Recall\": recall, \"F1 Score\": f1}\n",
    "    \n",
    "    plt.figure(figsize=(8, 5))\n",
    "    sns.barplot(x=list(metrics.keys()), y=list(metrics.values()), palette=\"Blues_d\")\n",
    "    plt.ylim(0, 1)\n",
    "    plt.title(\"Pronunciation Prediction Model Performance Metrics\")\n",
    "    plt.ylabel(\"Score\")\n",
    "    plt.xlabel(\"Metric\")\n",
    "    plt.show()\n"
   ]
  },
  {
   "cell_type": "code",
   "execution_count": null,
   "metadata": {},
   "outputs": [],
   "source": [
    "def get_labels(ground_truth, prediction):\n",
    "    ground_truth_words = ground_truth.split()\n",
    "    predicted_words = prediction.split()\n",
    "    labels = [1 if gt.lower() == pd.lower() else 0 for gt, pd in zip(ground_truth_words, predicted_words)]\n",
    "    return labels\n",
    "\n",
    "labels = get_labels(ground_truth_text, predicted_text)\n",
    "\n",
    "accuracy = accuracy_score([1]*len(labels), labels)\n",
    "precision = precision_score([1]*len(labels), labels)\n",
    "recall = recall_score([1]*len(labels), labels)\n",
    "f1 = f1_score([1]*len(labels), labels)\n",
    "\n",
    "print(f\"Accuracy: {accuracy:.2f}\")\n",
    "print(f\"Precision: {precision:.2f}\")\n",
    "print(f\"Recall: {recall:.2f}\")\n",
    "print(f\"F1 Score: {f1:.2f}\")\n",
    "\n",
    "plot_performance_metrics(accuracy, precision, recall, f1)\n"
   ]
  },
  {
   "cell_type": "code",
   "execution_count": null,
   "metadata": {},
   "outputs": [],
   "source": [
    "def visualize_audio_with_text_overlay(waveform, ground_truth, prediction, sample_rate=16000, downsample_factor=10):\n",
    "    waveform = waveform[0, ::downsample_factor]  \n",
    "    ground_truth_words = ground_truth.split()\n",
    "    predicted_words = prediction.split()\n",
    "\n",
    "    total_time = waveform.size(0) / sample_rate\n",
    "    word_times = np.linspace(0, total_time, len(ground_truth_words) + 1)\n",
    "\n",
    "    fig, ax = plt.subplots(figsize=(10, 4)) \n",
    "    ax.plot(np.linspace(0, total_time, waveform.size(0)), waveform.numpy(), label=\"Audio Signal\")\n",
    "    \n",
    "    for idx, word in enumerate(ground_truth_words):\n",
    "        color = 'green' if idx < len(predicted_words) and word.lower() == predicted_words[idx].lower() else 'red'\n",
    "        ax.text(word_times[idx], waveform.max(), word, color=color, fontsize=9, ha='center', va='bottom')\n",
    "    \n",
    "    ax.set_xlabel(\"Time (s)\")\n",
    "    ax.set_ylabel(\"Amplitude\")\n",
    "    ax.set_xlim(0, total_time)  \n",
    "    plt.legend()\n",
    "    plt.show()\n",
    "\n",
    "visualize_audio_with_text_overlay(waveform, ground_truth_text, predicted_text)\n"
   ]
  },
  {
   "cell_type": "code",
   "execution_count": null,
   "metadata": {},
   "outputs": [
    {
     "name": "stdout",
     "output_type": "stream",
     "text": [
      "[PretrainedModelInfo(\n",
      "\tpretrained_model_name=QuartzNet15x5Base-En,\n",
      "\tdescription=QuartzNet15x5 model trained on six datasets: LibriSpeech, Mozilla Common Voice (validated clips from en_1488h_2019-12-10), WSJ, Fisher, Switchboard, and NSC Singapore English. It was trained with Apex/Amp optimization level O1 for 600 epochs. The model achieves a WER of 3.79% on LibriSpeech dev-clean, and a WER of 10.05% on dev-other. Please visit https://ngc.nvidia.com/catalog/models/nvidia:nemospeechmodels for further details.,\n",
      "\tlocation=https://api.ngc.nvidia.com/v2/models/nvidia/nemospeechmodels/versions/1.0.0a5/files/QuartzNet15x5Base-En.nemo\n",
      "), PretrainedModelInfo(\n",
      "\tpretrained_model_name=stt_en_quartznet15x5,\n",
      "\tdescription=For details about this model, please visit https://ngc.nvidia.com/catalog/models/nvidia:nemo:stt_en_quartznet15x5,\n",
      "\tlocation=https://api.ngc.nvidia.com/v2/models/nvidia/nemo/stt_en_quartznet15x5/versions/1.0.0rc1/files/stt_en_quartznet15x5.nemo\n",
      "), PretrainedModelInfo(\n",
      "\tpretrained_model_name=stt_en_jasper10x5dr,\n",
      "\tdescription=For details about this model, please visit https://ngc.nvidia.com/catalog/models/nvidia:nemo:stt_en_jasper10x5dr,\n",
      "\tlocation=https://api.ngc.nvidia.com/v2/models/nvidia/nemo/stt_en_jasper10x5dr/versions/1.0.0rc1/files/stt_en_jasper10x5dr.nemo\n",
      "), PretrainedModelInfo(\n",
      "\tpretrained_model_name=stt_ca_quartznet15x5,\n",
      "\tdescription=For details about this model, please visit https://ngc.nvidia.com/catalog/models/nvidia:nemo:stt_ca_quartznet15x5,\n",
      "\tlocation=https://api.ngc.nvidia.com/v2/models/nvidia/nemo/stt_ca_quartznet15x5/versions/1.0.0rc1/files/stt_ca_quartznet15x5.nemo\n",
      "), PretrainedModelInfo(\n",
      "\tpretrained_model_name=stt_it_quartznet15x5,\n",
      "\tdescription=For details about this model, please visit https://ngc.nvidia.com/catalog/models/nvidia:nemo:stt_it_quartznet15x5,\n",
      "\tlocation=https://api.ngc.nvidia.com/v2/models/nvidia/nemo/stt_it_quartznet15x5/versions/1.0.0rc1/files/stt_it_quartznet15x5.nemo\n",
      "), PretrainedModelInfo(\n",
      "\tpretrained_model_name=stt_fr_quartznet15x5,\n",
      "\tdescription=For details about this model, please visit https://ngc.nvidia.com/catalog/models/nvidia:nemo:stt_fr_quartznet15x5,\n",
      "\tlocation=https://api.ngc.nvidia.com/v2/models/nvidia/nemo/stt_fr_quartznet15x5/versions/1.0.0rc1/files/stt_fr_quartznet15x5.nemo\n",
      "), PretrainedModelInfo(\n",
      "\tpretrained_model_name=stt_es_quartznet15x5,\n",
      "\tdescription=For details about this model, please visit https://ngc.nvidia.com/catalog/models/nvidia:nemo:stt_es_quartznet15x5,\n",
      "\tlocation=https://api.ngc.nvidia.com/v2/models/nvidia/nemo/stt_es_quartznet15x5/versions/1.0.0rc1/files/stt_es_quartznet15x5.nemo\n",
      "), PretrainedModelInfo(\n",
      "\tpretrained_model_name=stt_de_quartznet15x5,\n",
      "\tdescription=For details about this model, please visit https://ngc.nvidia.com/catalog/models/nvidia:nemo:stt_de_quartznet15x5,\n",
      "\tlocation=https://api.ngc.nvidia.com/v2/models/nvidia/nemo/stt_de_quartznet15x5/versions/1.0.0rc1/files/stt_de_quartznet15x5.nemo\n",
      "), PretrainedModelInfo(\n",
      "\tpretrained_model_name=stt_pl_quartznet15x5,\n",
      "\tdescription=For details about this model, please visit https://ngc.nvidia.com/catalog/models/nvidia:nemo:stt_pl_quartznet15x5,\n",
      "\tlocation=https://api.ngc.nvidia.com/v2/models/nvidia/nemo/stt_pl_quartznet15x5/versions/1.0.0rc1/files/stt_pl_quartznet15x5.nemo\n",
      "), PretrainedModelInfo(\n",
      "\tpretrained_model_name=stt_ru_quartznet15x5,\n",
      "\tdescription=For details about this model, please visit https://ngc.nvidia.com/catalog/models/nvidia:nemo:stt_ru_quartznet15x5,\n",
      "\tlocation=https://api.ngc.nvidia.com/v2/models/nvidia/nemo/stt_ru_quartznet15x5/versions/1.0.0rc1/files/stt_ru_quartznet15x5.nemo\n",
      "), PretrainedModelInfo(\n",
      "\tpretrained_model_name=stt_zh_citrinet_512,\n",
      "\tdescription=For details about this model, please visit https://ngc.nvidia.com/catalog/models/nvidia:nemo:stt_zh_citrinet_512,\n",
      "\tlocation=https://api.ngc.nvidia.com/v2/models/nvidia/nemo/stt_zh_citrinet_512/versions/1.0.0rc1/files/stt_zh_citrinet_512.nemo\n",
      "), PretrainedModelInfo(\n",
      "\tpretrained_model_name=stt_zh_citrinet_1024_gamma_0_25,\n",
      "\tdescription=For details about this model, please visit https://ngc.nvidia.com/catalog/models/nvidia:nemo:stt_zh_citrinet_1024_gamma_0_25,\n",
      "\tlocation=https://api.ngc.nvidia.com/v2/models/nvidia/nemo/stt_zh_citrinet_1024_gamma_0_25/versions/1.0.0/files/stt_zh_citrinet_1024_gamma_0_25.nemo\n",
      "), PretrainedModelInfo(\n",
      "\tpretrained_model_name=stt_zh_citrinet_1024_gamma_0_25,\n",
      "\tdescription=For details about this model, please visit https://ngc.nvidia.com/catalog/models/nvidia:nemo:stt_zh_citrinet_1024_gamma_0_25,\n",
      "\tlocation=https://api.ngc.nvidia.com/v2/models/nvidia/nemo/stt_zh_citrinet_1024_gamma_0_25/versions/1.0.0/files/stt_zh_citrinet_1024_gamma_0_25.nemo\n",
      "), PretrainedModelInfo(\n",
      "\tpretrained_model_name=asr_talknet_aligner,\n",
      "\tdescription=For details about this model, please visit https://ngc.nvidia.com/catalog/models/nvidia:nemo:asr_talknet_aligner,\n",
      "\tlocation=https://api.ngc.nvidia.com/v2/models/nvidia/nemo/asr_talknet_aligner/versions/1.0.0rc1/files/qn5x5_libri_tts_phonemes.nemo\n",
      ")]\n"
     ]
    }
   ],
   "source": [
    "import nemo.collections.asr as nemo_asr\n",
    "\n",
    "print(nemo_asr.models.EncDecCTCModel.list_available_models())\n"
   ]
  }
 ],
 "metadata": {
  "kernelspec": {
   "display_name": "base",
   "language": "python",
   "name": "python3"
  },
  "language_info": {
   "codemirror_mode": {
    "name": "ipython",
    "version": 3
   },
   "file_extension": ".py",
   "mimetype": "text/x-python",
   "name": "python",
   "nbconvert_exporter": "python",
   "pygments_lexer": "ipython3",
   "version": "3.11.10"
  }
 },
 "nbformat": 4,
 "nbformat_minor": 2
}
