{
 "cells": [
  {
   "cell_type": "code",
   "execution_count": 1,
   "metadata": {},
   "outputs": [],
   "source": [
    "import pandas as pd"
   ]
  },
  {
   "cell_type": "code",
   "execution_count": 2,
   "metadata": {},
   "outputs": [],
   "source": [
    "csv_path = \"TIMIT/train_data.csv\"  \n",
    "df = pd.read_csv(csv_path)"
   ]
  },
  {
   "cell_type": "code",
   "execution_count": 3,
   "metadata": {},
   "outputs": [
    {
     "data": {
      "text/plain": [
       "Index(['index', 'test_or_train', 'dialect_region', 'speaker_id', 'filename',\n",
       "       'path_from_data_dir', 'path_from_data_dir_windows',\n",
       "       'is_converted_audio', 'is_audio', 'is_word_file', 'is_phonetic_file',\n",
       "       'is_sentence_file'],\n",
       "      dtype='object')"
      ]
     },
     "execution_count": 3,
     "metadata": {},
     "output_type": "execute_result"
    }
   ],
   "source": [
    "df.columns"
   ]
  },
  {
   "cell_type": "code",
   "execution_count": 4,
   "metadata": {},
   "outputs": [
    {
     "data": {
      "text/plain": [
       "index                          8578\n",
       "test_or_train                  8578\n",
       "dialect_region                 8578\n",
       "speaker_id                     8578\n",
       "filename                       8578\n",
       "path_from_data_dir             8578\n",
       "path_from_data_dir_windows     8578\n",
       "is_converted_audio             8578\n",
       "is_audio                       8578\n",
       "is_word_file                   8578\n",
       "is_phonetic_file              23278\n",
       "is_sentence_file               8578\n",
       "dtype: int64"
      ]
     },
     "execution_count": 4,
     "metadata": {},
     "output_type": "execute_result"
    }
   ],
   "source": [
    "df.isna().sum()"
   ]
  },
  {
   "cell_type": "code",
   "execution_count": 5,
   "metadata": {},
   "outputs": [],
   "source": [
    "def determine_phonotic(row):\n",
    "    if pd.isna(row['is_phonetic_file']):  # Only replace if _phonotc is NaN\n",
    "        if pd.isna(row['filename'])!=True and 'PHN' in row['filename']:  # Adjust condition as necessary\n",
    "            return True\n",
    "        else:\n",
    "            return False\n",
    "    return row['is_phonetic_file']  # Return the original value if not NaN\n",
    "df['is_phonetic_file'] = df.apply(determine_phonotic, axis=1)"
   ]
  },
  {
   "cell_type": "code",
   "execution_count": 7,
   "metadata": {},
   "outputs": [
    {
     "data": {
      "text/plain": [
       "index                         8578\n",
       "test_or_train                 8578\n",
       "dialect_region                8578\n",
       "speaker_id                    8578\n",
       "filename                      8578\n",
       "path_from_data_dir            8578\n",
       "path_from_data_dir_windows    8578\n",
       "is_converted_audio            8578\n",
       "is_audio                      8578\n",
       "is_word_file                  8578\n",
       "is_phonetic_file                 0\n",
       "is_sentence_file              8578\n",
       "dtype: int64"
      ]
     },
     "execution_count": 7,
     "metadata": {},
     "output_type": "execute_result"
    }
   ],
   "source": [
    "df.isna().sum()"
   ]
  },
  {
   "cell_type": "code",
   "execution_count": 9,
   "metadata": {},
   "outputs": [],
   "source": [
    "df=df.dropna()"
   ]
  },
  {
   "cell_type": "code",
   "execution_count": 10,
   "metadata": {},
   "outputs": [
    {
     "data": {
      "text/plain": [
       "index                         0\n",
       "test_or_train                 0\n",
       "dialect_region                0\n",
       "speaker_id                    0\n",
       "filename                      0\n",
       "path_from_data_dir            0\n",
       "path_from_data_dir_windows    0\n",
       "is_converted_audio            0\n",
       "is_audio                      0\n",
       "is_word_file                  0\n",
       "is_phonetic_file              0\n",
       "is_sentence_file              0\n",
       "dtype: int64"
      ]
     },
     "execution_count": 10,
     "metadata": {},
     "output_type": "execute_result"
    }
   ],
   "source": [
    "df.isna().sum()"
   ]
  },
  {
   "cell_type": "code",
   "execution_count": 11,
   "metadata": {},
   "outputs": [],
   "source": [
    "df.to_csv('TIMIT/preprocessed_train.csv', index=False)"
   ]
  }
 ],
 "metadata": {
  "kernelspec": {
   "display_name": "pronounciation",
   "language": "python",
   "name": "python3"
  },
  "language_info": {
   "codemirror_mode": {
    "name": "ipython",
    "version": 3
   },
   "file_extension": ".py",
   "mimetype": "text/x-python",
   "name": "python",
   "nbconvert_exporter": "python",
   "pygments_lexer": "ipython3",
   "version": "3.11.7"
  }
 },
 "nbformat": 4,
 "nbformat_minor": 2
}
