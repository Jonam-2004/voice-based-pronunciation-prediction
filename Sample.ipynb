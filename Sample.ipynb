{
 "cells": [
  {
   "cell_type": "code",
   "execution_count": 1,
   "metadata": {},
   "outputs": [
    {
     "name": "stderr",
     "output_type": "stream",
     "text": [
      "d:\\Anaconda\\Lib\\site-packages\\transformers\\utils\\generic.py:260: FutureWarning: `torch.utils._pytree._register_pytree_node` is deprecated. Please use `torch.utils._pytree.register_pytree_node` instead.\n",
      "  torch.utils._pytree._register_pytree_node(\n",
      "d:\\Anaconda\\Lib\\site-packages\\transformers\\utils\\generic.py:260: FutureWarning: `torch.utils._pytree._register_pytree_node` is deprecated. Please use `torch.utils._pytree.register_pytree_node` instead.\n",
      "  torch.utils._pytree._register_pytree_node(\n"
     ]
    }
   ],
   "source": [
    "import torchaudio\n",
    "from transformers import Wav2Vec2Processor, Wav2Vec2ForCTC\n",
    "import torch\n",
    "import os"
   ]
  },
  {
   "cell_type": "code",
   "execution_count": 2,
   "metadata": {},
   "outputs": [
    {
     "name": "stderr",
     "output_type": "stream",
     "text": [
      "Some weights of the model checkpoint at facebook/wav2vec2-base-960h were not used when initializing Wav2Vec2ForCTC: ['wav2vec2.encoder.pos_conv_embed.conv.weight_g', 'wav2vec2.encoder.pos_conv_embed.conv.weight_v']\n",
      "- This IS expected if you are initializing Wav2Vec2ForCTC from the checkpoint of a model trained on another task or with another architecture (e.g. initializing a BertForSequenceClassification model from a BertForPreTraining model).\n",
      "- This IS NOT expected if you are initializing Wav2Vec2ForCTC from the checkpoint of a model that you expect to be exactly identical (initializing a BertForSequenceClassification model from a BertForSequenceClassification model).\n",
      "Some weights of Wav2Vec2ForCTC were not initialized from the model checkpoint at facebook/wav2vec2-base-960h and are newly initialized: ['wav2vec2.masked_spec_embed', 'wav2vec2.encoder.pos_conv_embed.conv.parametrizations.weight.original0', 'wav2vec2.encoder.pos_conv_embed.conv.parametrizations.weight.original1']\n",
      "You should probably TRAIN this model on a down-stream task to be able to use it for predictions and inference.\n"
     ]
    }
   ],
   "source": [
    "\n",
    "processor = Wav2Vec2Processor.from_pretrained(\"facebook/wav2vec2-base-960h\")\n",
    "model = Wav2Vec2ForCTC.from_pretrained(\"facebook/wav2vec2-base-960h\")"
   ]
  },
  {
   "cell_type": "code",
   "execution_count": 3,
   "metadata": {},
   "outputs": [],
   "source": [
    "timit_path = r\"timit\\data\\TRAIN\\DR1\\FCJF0\"\n",
    "audio_file = os.path.join(timit_path, \"SA1.WAV\")\n",
    "\n",
    "# Load the audio file\n",
    "waveform, sample_rate = torchaudio.load(audio_file)\n",
    "waveform = waveform.squeeze()\n",
    "\n",
    "# Resample if needed (e.g., Wav2Vec2 expects 16kHz audio)\n",
    "if sample_rate != 16000:\n",
    "    waveform = torchaudio.transforms.Resample(sample_rate, 16000)(waveform)\n"
   ]
  },
  {
   "cell_type": "code",
   "execution_count": 4,
   "metadata": {},
   "outputs": [
    {
     "name": "stdout",
     "output_type": "stream",
     "text": [
      "Predicted Text: SHE HAD YOUR DUCK SUP AND GREASY WASHWATER ALL YEAR\n"
     ]
    }
   ],
   "source": [
    "# Process and tokenize the waveform\n",
    "inputs = processor(waveform, sampling_rate=16000, return_tensors=\"pt\", padding=True)\n",
    "input_values = inputs.input_values\n",
    "\n",
    "# Get the logits from the model\n",
    "with torch.no_grad():\n",
    "    logits = model(input_values).logits\n",
    "\n",
    "# Decode predicted ids to text\n",
    "predicted_ids = torch.argmax(logits, dim=-1)\n",
    "predicted_text = processor.batch_decode(predicted_ids)[0]\n",
    "print(\"Predicted Text:\", predicted_text)\n"
   ]
  },
  {
   "cell_type": "code",
   "execution_count": 5,
   "metadata": {},
   "outputs": [
    {
     "name": "stdout",
     "output_type": "stream",
     "text": [
      "Word Error Rate: 0.45454545454545453\n",
      "Match Error Rate: 0.45454545454545453\n",
      "Word Information Lost Rate: 0.6727272727272728\n"
     ]
    }
   ],
   "source": [
    "from jiwer import wer, mer, wil\n",
    "\n",
    "# Ground truth transcription (assuming you have it for TIMIT or other dataset)\n",
    "ground_truth_text = \"She had your dark suit in greasy wash water all year\"\n",
    "\n",
    "# Calculate Word Error Rate (WER)\n",
    "error_rate = wer(ground_truth_text.lower(), predicted_text.lower())\n",
    "print(\"Word Error Rate:\", error_rate)\n",
    "\n",
    "# Further metrics such as MER (Match Error Rate) and WIL (Word Information Lost)\n",
    "match_error_rate = mer(ground_truth_text.lower(), predicted_text.lower())\n",
    "wil_rate = wil(ground_truth_text.lower(), predicted_text.lower())\n",
    "print(\"Match Error Rate:\", match_error_rate)\n",
    "print(\"Word Information Lost Rate:\", wil_rate)\n"
   ]
  },
  {
   "cell_type": "code",
   "execution_count": 6,
   "metadata": {},
   "outputs": [
    {
     "data": {
      "image/png": "[encoded data removed]",
      "text/plain": [
       "<Figure size 640x480 with 1 Axes>"
      ]
     },
     "metadata": {},
     "output_type": "display_data"
    }
   ],
   "source": [
    "import matplotlib.pyplot as plt\n",
    "\n",
    "def visualize_pronunciation(ground_truth, prediction):\n",
    "    ground_truth_words = ground_truth.split()\n",
    "    predicted_words = prediction.split()\n",
    "    \n",
    "    fig, ax = plt.subplots()\n",
    "    for idx, word in enumerate(ground_truth_words):\n",
    "        color = 'green' if idx < len(predicted_words) and word.lower() == predicted_words[idx].lower() else 'red'\n",
    "        ax.text(idx * 0.1, 0.5, word, color=color, fontsize=12, ha='center')\n",
    "    ax.axis('off')\n",
    "    plt.show()\n",
    "\n",
    "# Call the visualization function\n",
    "visualize_pronunciation(ground_truth_text, predicted_text)\n"
   ]
  },
  {
   "cell_type": "code",
   "execution_count": 7,
   "metadata": {},
   "outputs": [
    {
     "name": "stdout",
     "output_type": "stream",
     "text": [
      "Accuracy: 0.40\n",
      "Precision: 1.00\n",
      "Recall: 0.40\n",
      "F1 Score: 0.57\n"
     ]
    }
   ],
   "source": [
    "from sklearn.metrics import accuracy_score, precision_score, recall_score, f1_score\n",
    "\n",
    "# Convert words to binary labels for correct (1) and incorrect (0) pronunciation\n",
    "def get_labels(ground_truth, prediction):\n",
    "    ground_truth_words = ground_truth.split()\n",
    "    predicted_words = prediction.split()\n",
    "    labels = [1 if gt.lower() == pd.lower() else 0 for gt, pd in zip(ground_truth_words, predicted_words)]\n",
    "    return labels\n",
    "\n",
    "labels = get_labels(ground_truth_text, predicted_text)\n",
    "\n",
    "# Assuming binary labels where 1 = correct, 0 = incorrect\n",
    "accuracy = accuracy_score([1]*len(labels), labels)\n",
    "precision = precision_score([1]*len(labels), labels)\n",
    "recall = recall_score([1]*len(labels), labels)\n",
    "f1 = f1_score([1]*len(labels), labels)\n",
    "\n",
    "print(f\"Accuracy: {accuracy:.2f}\")\n",
    "print(f\"Precision: {precision:.2f}\")\n",
    "print(f\"Recall: {recall:.2f}\")\n",
    "print(f\"F1 Score: {f1:.2f}\")\n"
   ]
  }
 ],
 "metadata": {
  "kernelspec": {
   "display_name": "base",
   "language": "python",
   "name": "python3"
  },
  "language_info": {
   "codemirror_mode": {
    "name": "ipython",
    "version": 3
   },
   "file_extension": ".py",
   "mimetype": "text/x-python",
   "name": "python",
   "nbconvert_exporter": "python",
   "pygments_lexer": "ipython3",
   "version": "3.11.5"
  }
 },
 "nbformat": 4,
 "nbformat_minor": 2
}
