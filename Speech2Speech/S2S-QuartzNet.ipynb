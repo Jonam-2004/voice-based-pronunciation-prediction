{
 "cells": [
  {
   "cell_type": "code",
   "execution_count": 35,
   "metadata": {},
   "outputs": [],
   "source": [
    "import sounddevice as sd\n",
    "import torchaudio\n",
    "import nemo.collections.asr as nemo_asr\n",
    "from jiwer import wer, mer, wil\n",
    "import matplotlib.pyplot as plt\n",
    "import seaborn as sns\n",
    "import numpy as np\n",
    "from scipy.io.wavfile import write\n",
    "from sklearn.metrics import accuracy_score, precision_score, recall_score, f1_score\n",
    "import pyttsx3"
   ]
  },
  {
   "cell_type": "code",
   "execution_count": 36,
   "metadata": {},
   "outputs": [],
   "source": [
    "tts_engine = pyttsx3.init()\n",
    "tts_engine.setProperty('rate', 150) "
   ]
  },
  {
   "cell_type": "code",
   "execution_count": 37,
   "metadata": {},
   "outputs": [
    {
     "name": "stdout",
     "output_type": "stream",
     "text": [
      "[NeMo I 2024-11-12 16:02:20 nemo_logging:381] Found existing object C:\\Users\\ASUS\\.cache\\torch\\NeMo\\NeMo_1.21.0\\stt_en_quartznet15x5\\16661021d16e679bdfd97a2a03944c49\\stt_en_quartznet15x5.nemo.\n",
      "[NeMo I 2024-11-12 16:02:20 nemo_logging:381] Re-using file from: C:\\Users\\ASUS\\.cache\\torch\\NeMo\\NeMo_1.21.0\\stt_en_quartznet15x5\\16661021d16e679bdfd97a2a03944c49\\stt_en_quartznet15x5.nemo\n",
      "[NeMo I 2024-11-12 16:02:20 nemo_logging:381] Instantiating model from pre-trained checkpoint\n"
     ]
    },
    {
     "name": "stderr",
     "output_type": "stream",
     "text": [
      "[NeMo W 2024-11-12 16:02:20 nemo_logging:393] If you intend to do training or fine-tuning, please call the ModelPT.setup_training_data() method and provide a valid configuration file to setup the train data loader.\n",
      "    Train config : \n",
      "    manifest_filepath: /data2/voices/train_1k.json\n",
      "    sample_rate: 16000\n",
      "    labels:\n",
      "    - ' '\n",
      "    - a\n",
      "    - b\n",
      "    - c\n",
      "    - d\n",
      "    - e\n",
      "    - f\n",
      "    - g\n",
      "    - h\n",
      "    - i\n",
      "    - j\n",
      "    - k\n",
      "    - l\n",
      "    - m\n",
      "    - 'n'\n",
      "    - o\n",
      "    - p\n",
      "    - q\n",
      "    - r\n",
      "    - s\n",
      "    - t\n",
      "    - u\n",
      "    - v\n",
      "    - w\n",
      "    - x\n",
      "    - 'y'\n",
      "    - z\n",
      "    - ''''\n",
      "    batch_size: 32\n",
      "    trim_silence: true\n",
      "    max_duration: 16.7\n",
      "    shuffle: true\n",
      "    is_tarred: false\n",
      "    tarred_audio_filepaths: /asr_set_1.2/train/train_{0..1023}.tar\n",
      "    num_workers: 20\n",
      "    \n",
      "[NeMo W 2024-11-12 16:02:20 nemo_logging:393] If you intend to do validation, please call the ModelPT.setup_validation_data() or ModelPT.setup_multiple_validation_data() method and provide a valid configuration file to setup the validation data loader(s). \n",
      "    Validation config : \n",
      "    manifest_filepath: /data2/voices/train_1k_samp.json\n",
      "    sample_rate: 16000\n",
      "    labels:\n",
      "    - ' '\n",
      "    - a\n",
      "    - b\n",
      "    - c\n",
      "    - d\n",
      "    - e\n",
      "    - f\n",
      "    - g\n",
      "    - h\n",
      "    - i\n",
      "    - j\n",
      "    - k\n",
      "    - l\n",
      "    - m\n",
      "    - 'n'\n",
      "    - o\n",
      "    - p\n",
      "    - q\n",
      "    - r\n",
      "    - s\n",
      "    - t\n",
      "    - u\n",
      "    - v\n",
      "    - w\n",
      "    - x\n",
      "    - 'y'\n",
      "    - z\n",
      "    - ''''\n",
      "    batch_size: 32\n",
      "    shuffle: false\n",
      "    \n"
     ]
    },
    {
     "name": "stdout",
     "output_type": "stream",
     "text": [
      "[NeMo I 2024-11-12 16:02:20 nemo_logging:381] PADDING: 16\n"
     ]
    },
    {
     "name": "stderr",
     "output_type": "stream",
     "text": [
      "[NeMo W 2024-11-12 16:02:21 nemo_logging:393] c:\\Users\\ASUS\\anaconda3\\envs\\Speech2Text\\Lib\\site-packages\\nemo\\core\\connectors\\save_restore_connector.py:568: FutureWarning: You are using `torch.load` with `weights_only=False` (the current default value), which uses the default pickle module implicitly. It is possible to construct malicious pickle data which will execute arbitrary code during unpickling (See https://github.com/pytorch/pytorch/blob/main/SECURITY.md#untrusted-models for more details). In a future release, the default value for `weights_only` will be flipped to `True`. This limits the functions that could be executed during unpickling. Arbitrary objects will no longer be allowed to be loaded via this mode unless they are explicitly allowlisted by the user via `torch.serialization.add_safe_globals`. We recommend you start setting `weights_only=True` for any use case where you don't have full control of the loaded file. Please open an issue on GitHub for any issues related to this experimental feature.\n",
      "      return torch.load(model_weights, map_location='cpu')\n",
      "    \n"
     ]
    },
    {
     "name": "stdout",
     "output_type": "stream",
     "text": [
      "[NeMo I 2024-11-12 16:02:21 nemo_logging:381] Model EncDecCTCModel was successfully restored from C:\\Users\\ASUS\\.cache\\torch\\NeMo\\NeMo_1.21.0\\stt_en_quartznet15x5\\16661021d16e679bdfd97a2a03944c49\\stt_en_quartznet15x5.nemo.\n"
     ]
    }
   ],
   "source": [
    "asr_model = nemo_asr.models.EncDecCTCModel.from_pretrained(model_name=\"stt_en_quartznet15x5\")"
   ]
  },
  {
   "cell_type": "code",
   "execution_count": 38,
   "metadata": {},
   "outputs": [],
   "source": [
    "def speak(text):\n",
    "    tts_engine.say(text)\n",
    "    tts_engine.runAndWait()"
   ]
  },
  {
   "cell_type": "code",
   "execution_count": 39,
   "metadata": {},
   "outputs": [],
   "source": [
    "def record_audio(duration=5, sample_rate=16000):\n",
    "    speak(\"Recording. Please start speaking.\")\n",
    "    audio = sd.rec(int(duration * sample_rate), samplerate=sample_rate, channels=1, dtype='float32')\n",
    "    sd.wait()\n",
    "    speak(\"Recording finished.\")\n",
    "    return sample_rate, np.squeeze(audio)"
   ]
  },
  {
   "cell_type": "code",
   "execution_count": 40,
   "metadata": {},
   "outputs": [],
   "source": [
    "def get_reference_text():\n",
    "    reference_text = input(\"Enter the text expected to be pronounced in the audio: \")\n",
    "    return reference_text"
   ]
  },
  {
   "cell_type": "code",
   "execution_count": 41,
   "metadata": {},
   "outputs": [],
   "source": [
    "def save_audio(audio, sample_rate, filename=\"temp.wav\"):\n",
    "    write(filename, sample_rate, audio)\n",
    "    return filename"
   ]
  },
  {
   "cell_type": "code",
   "execution_count": 42,
   "metadata": {},
   "outputs": [],
   "source": [
    "def transcribe_and_evaluate(audio_path, reference_text):\n",
    "    predicted_text = asr_model.transcribe([audio_path])[0]\n",
    "    speak(\"Transcription completed.\")\n",
    "    \n",
    "    error_rate = wer(reference_text.lower(), predicted_text.lower())\n",
    "    match_error_rate = mer(reference_text.lower(), predicted_text.lower())\n",
    "    wil_rate = wil(reference_text.lower(), predicted_text.lower())\n",
    "    \n",
    "    speak(f\"The predicted text is: {predicted_text}\")\n",
    "    speak(f\"Word Error Rate is {error_rate:.2f}\")\n",
    "    speak(f\"Match Error Rate is {match_error_rate:.2f}\")\n",
    "    speak(f\"Word Information Lost Rate is {wil_rate:.2f}\")\n",
    "    \n",
    "    return predicted_text"
   ]
  },
  {
   "cell_type": "code",
   "execution_count": 43,
   "metadata": {},
   "outputs": [],
   "source": [
    "def visualize_pronunciation(reference_text, predicted_text):\n",
    "    reference_words = reference_text.split()\n",
    "    predicted_words = predicted_text.split()\n",
    "    \n",
    "    fig, ax = plt.subplots()\n",
    "    for idx, word in enumerate(reference_words):\n",
    "        color = 'green' if idx < len(predicted_words) and word.lower() == predicted_words[idx].lower() else 'red'\n",
    "        ax.text(idx * 0.1, 0.5, word, color=color, fontsize=12, ha='center')\n",
    "    ax.axis('off')\n",
    "    plt.show()\n",
    "    speak(\"Pronunciation visualization displayed.\")"
   ]
  },
  {
   "cell_type": "code",
   "execution_count": 44,
   "metadata": {},
   "outputs": [],
   "source": [
    "def plot_performance_metrics(accuracy, precision, recall, f1):\n",
    "    metrics = {\"Accuracy\": accuracy, \"Precision\": precision, \"Recall\": recall, \"F1 Score\": f1}\n",
    "    \n",
    "    plt.figure(figsize=(8, 5))\n",
    "    sns.barplot(x=list(metrics.keys()), y=list(metrics.values()), palette=\"Blues_d\")\n",
    "    plt.ylim(0, 1)\n",
    "    plt.title(\"Pronunciation Prediction Model Performance Metrics\")\n",
    "    plt.ylabel(\"Score\")\n",
    "    plt.xlabel(\"Metric\")\n",
    "    plt.show()\n",
    "    speak(\"Performance metrics plot displayed.\")"
   ]
  },
  {
   "cell_type": "code",
   "execution_count": 45,
   "metadata": {},
   "outputs": [],
   "source": [
    "def calculate_and_plot_metrics(reference_text, predicted_text):\n",
    "    reference_words = reference_text.split()\n",
    "    predicted_words = predicted_text.split()\n",
    "    labels = [1 if gt.lower() == pd.lower() else 0 for gt, pd in zip(reference_words, predicted_words)]\n",
    "    \n",
    "    accuracy = accuracy_score([1]*len(labels), labels)\n",
    "    precision = precision_score([1]*len(labels), labels, zero_division=0)\n",
    "    recall = recall_score([1]*len(labels), labels, zero_division=0)\n",
    "    f1 = f1_score([1]*len(labels), labels, zero_division=0)\n",
    "    \n",
    "    speak(f\"Accuracy is {accuracy:.2f}\")\n",
    "    speak(f\"Precision is {precision:.2f}\")\n",
    "    speak(f\"Recall is {recall:.2f}\")\n",
    "    speak(f\"F1 Score is {f1:.2f}\")"
   ]
  },
  {
   "cell_type": "code",
   "execution_count": 46,
   "metadata": {},
   "outputs": [],
   "source": [
    "def visualize_audio_with_text_overlay(waveform, reference_text, predicted_text, sample_rate=16000, downsample_factor=10):\n",
    "    waveform = waveform[::downsample_factor]\n",
    "    reference_words = reference_text.split()\n",
    "    predicted_words = predicted_text.split()\n",
    "\n",
    "    total_time = waveform.size / sample_rate\n",
    "    word_times = np.linspace(0, total_time, len(reference_words) + 1)\n",
    "\n",
    "    fig, ax = plt.subplots(figsize=(10, 4))\n",
    "    ax.plot(np.linspace(0, total_time, waveform.size), waveform, label=\"Audio Signal\")\n",
    "    \n",
    "    for idx, word in enumerate(reference_words):\n",
    "        color = 'green' if idx < len(predicted_words) and word.lower() == predicted_words[idx].lower() else 'red'\n",
    "        ax.text(word_times[idx], waveform.max(), word, color=color, fontsize=9, ha='center', va='bottom')\n",
    "    \n",
    "    ax.set_xlabel(\"Time (s)\")\n",
    "    ax.set_ylabel(\"Amplitude\")\n",
    "    ax.set_xlim(0, total_time)\n",
    "    plt.legend()\n",
    "    plt.show()\n",
    "    speak(\"Audio waveform with text overlay displayed.\")"
   ]
  },
  {
   "cell_type": "code",
   "execution_count": 47,
   "metadata": {},
   "outputs": [
    {
     "name": "stderr",
     "output_type": "stream",
     "text": [
      "Transcribing:   0%|          | 0/1 [00:00<?, ?it/s][NeMo W 2024-11-12 16:02:42 nemo_logging:393] c:\\Users\\ASUS\\anaconda3\\envs\\Speech2Text\\Lib\\site-packages\\nemo\\collections\\asr\\parts\\preprocessing\\features.py:417: FutureWarning: `torch.cuda.amp.autocast(args...)` is deprecated. Please use `torch.amp.autocast('cuda', args...)` instead.\n",
      "      with torch.cuda.amp.autocast(enabled=False):\n",
      "    \n",
      "Transcribing: 100%|██████████| 1/1 [00:00<00:00,  3.67it/s]\n"
     ]
    },
    {
     "data": {
      "image/png": "[encoded data removed]",
      "text/plain": [
       "<Figure size 640x480 with 1 Axes>"
      ]
     },
     "metadata": {},
     "output_type": "display_data"
    },
    {
     "data": {
      "image/png": "[encoded data removed]",
      "text/plain": [
       "<Figure size 1000x400 with 1 Axes>"
      ]
     },
     "metadata": {},
     "output_type": "display_data"
    }
   ],
   "source": [
    "\n",
    "def main():\n",
    "    sample_rate, audio = record_audio(duration=5)\n",
    "    reference_text = get_reference_text()\n",
    "    \n",
    "    audio_path = save_audio(audio, sample_rate)\n",
    "    \n",
    "    predicted_text = transcribe_and_evaluate(audio_path, reference_text)\n",
    "    \n",
    "    visualize_pronunciation(reference_text, predicted_text)\n",
    "    \n",
    "    calculate_and_plot_metrics(reference_text, predicted_text)\n",
    "    \n",
    "    visualize_audio_with_text_overlay(audio, reference_text, predicted_text, sample_rate)\n",
    "\n",
    "# Run the main function\n",
    "main()"
   ]
  },
  {
   "cell_type": "code",
   "execution_count": null,
   "metadata": {},
   "outputs": [],
   "source": []
  }
 ],
 "metadata": {
  "kernelspec": {
   "display_name": "Speech2Text",
   "language": "python",
   "name": "python3"
  },
  "language_info": {
   "codemirror_mode": {
    "name": "ipython",
    "version": 3
   },
   "file_extension": ".py",
   "mimetype": "text/x-python",
   "name": "python",
   "nbconvert_exporter": "python",
   "pygments_lexer": "ipython3",
   "version": "3.11.10"
  }
 },
 "nbformat": 4,
 "nbformat_minor": 2
}
